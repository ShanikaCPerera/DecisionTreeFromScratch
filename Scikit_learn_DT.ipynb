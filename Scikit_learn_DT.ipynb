{
 "cells": [
  {
   "cell_type": "code",
   "execution_count": 1,
   "id": "99ec9c6b-9178-473e-b530-9f9ccbe9704c",
   "metadata": {},
   "outputs": [],
   "source": [
    "from sklearn import datasets\n",
    "from sklearn.model_selection import train_test_split\n",
    "import numpy as np\n",
    "import pandas as pd\n",
    "from sklearn.tree import DecisionTreeClassifier\n",
    "from sklearn import preprocessing\n",
    "from sklearn.preprocessing import LabelEncoder\n",
    "from sklearn.preprocessing import OneHotEncoder"
   ]
  },
  {
   "cell_type": "code",
   "execution_count": 2,
   "id": "2fb17027-0572-4eb2-8ae5-dad8fcc7b0d4",
   "metadata": {},
   "outputs": [],
   "source": [
    "def feature_to_dummy(df, column, drop=False):\n",
    "    ''' take a serie from a dataframe,\n",
    "        convert it to dummy and name it like feature_value\n",
    "        - df is a dataframe\n",
    "        - column is the name of the column to be transformed\n",
    "        - if drop is true, the serie is removed from dataframe'''\n",
    "    tmp = pd.get_dummies(df[column], prefix=column, prefix_sep='_')\n",
    "    df = pd.concat([df, tmp], axis=1)\n",
    "    if drop:\n",
    "        del df[column]\n",
    "    return df"
   ]
  },
  {
   "cell_type": "code",
   "execution_count": 3,
   "id": "409db89f-2dc9-42f4-ae43-f40196cc7547",
   "metadata": {},
   "outputs": [],
   "source": [
    "def getEncoded(test_data,labelencoder_dict,onehotencoder_dict):\n",
    "    test_encoded_x = None\n",
    "    for i in range(0,test_data.shape[1]):\n",
    "        label_encoder =  labelencoder_dict[i]\n",
    "        feature = label_encoder.transform(test_data.iloc[:,i])\n",
    "        feature = feature.reshape(test_data.shape[0], 1)\n",
    "        onehot_encoder = onehotencoder_dict[i]\n",
    "        feature = onehot_encoder.transform(feature)\n",
    "        if test_encoded_x is None:\n",
    "            test_encoded_x = feature\n",
    "        else:\n",
    "            test_encoded_x = np.concatenate((test_encoded_x, feature), axis=1)\n",
    "    return test_encoded_x"
   ]
  },
  {
   "cell_type": "code",
   "execution_count": 4,
   "id": "0cd12209-d09a-40b1-835a-09aa4ac48f1b",
   "metadata": {},
   "outputs": [],
   "source": [
    "MY_PATH = ''\n",
    "train_data_file = MY_PATH + 'restaurant.csv'\n",
    "test_data_file = MY_PATH + 'restaurant_test.csv'\n",
    "predict_data_file = MY_PATH + 'restaurant_predict.csv'"
   ]
  },
  {
   "cell_type": "code",
   "execution_count": 5,
   "id": "ea34cb63-2582-4e7b-916d-ae42f0a20fe2",
   "metadata": {},
   "outputs": [],
   "source": [
    "# Column names to be added\n",
    "column_names=['Alt', 'Bar', 'Fri', 'Hun', 'Pat', 'Price', 'Rain', 'Res', 'Type', 'Est', 'Output']\n",
    "\n",
    "#read data\n",
    "train_df=pd.read_csv(train_data_file, names=column_names)"
   ]
  },
  {
   "cell_type": "code",
   "execution_count": 6,
   "id": "a7ce55da-e489-47c3-8877-cb74a5456dfd",
   "metadata": {},
   "outputs": [],
   "source": [
    "train_df_dtypes_obj = train_df.select_dtypes(['object'])\n",
    "train_df[train_df_dtypes_obj.columns] = train_df_dtypes_obj.apply(lambda x: x.str.strip())"
   ]
  },
  {
   "cell_type": "code",
   "execution_count": 7,
   "id": "dfd67939-25c4-46c1-9e7a-e1111a618035",
   "metadata": {},
   "outputs": [],
   "source": [
    "# mapping yes/no to 1/0\n",
    "# train_df['Output'] = train_df['Output'].str.strip()\n",
    "# train_df['Output'] = train_df['Output'].map({'Yes': int(1), 'No': int(0)})"
   ]
  },
  {
   "cell_type": "code",
   "execution_count": 8,
   "id": "7b0c23f7-d189-40f7-8f1b-4bf19d15a535",
   "metadata": {},
   "outputs": [],
   "source": [
    "#separateing predictor features(X) and target feature(y)\n",
    "X_train = train_df.iloc[:,0:10]\n",
    "y_train = train_df.iloc[:,10]"
   ]
  },
  {
   "cell_type": "code",
   "execution_count": 9,
   "id": "5e39ec1d-12f8-4198-9b29-d46d1966119d",
   "metadata": {},
   "outputs": [
    {
     "data": {
      "text/html": [
       "<div>\n",
       "<style scoped>\n",
       "    .dataframe tbody tr th:only-of-type {\n",
       "        vertical-align: middle;\n",
       "    }\n",
       "\n",
       "    .dataframe tbody tr th {\n",
       "        vertical-align: top;\n",
       "    }\n",
       "\n",
       "    .dataframe thead th {\n",
       "        text-align: right;\n",
       "    }\n",
       "</style>\n",
       "<table border=\"1\" class=\"dataframe\">\n",
       "  <thead>\n",
       "    <tr style=\"text-align: right;\">\n",
       "      <th></th>\n",
       "      <th>Alt</th>\n",
       "      <th>Bar</th>\n",
       "      <th>Fri</th>\n",
       "      <th>Hun</th>\n",
       "      <th>Pat</th>\n",
       "      <th>Price</th>\n",
       "      <th>Rain</th>\n",
       "      <th>Res</th>\n",
       "      <th>Type</th>\n",
       "      <th>Est</th>\n",
       "    </tr>\n",
       "  </thead>\n",
       "  <tbody>\n",
       "    <tr>\n",
       "      <th>0</th>\n",
       "      <td>Yes</td>\n",
       "      <td>No</td>\n",
       "      <td>No</td>\n",
       "      <td>Yes</td>\n",
       "      <td>Some</td>\n",
       "      <td>$$$</td>\n",
       "      <td>No</td>\n",
       "      <td>Yes</td>\n",
       "      <td>French</td>\n",
       "      <td>0-10</td>\n",
       "    </tr>\n",
       "    <tr>\n",
       "      <th>1</th>\n",
       "      <td>Yes</td>\n",
       "      <td>No</td>\n",
       "      <td>No</td>\n",
       "      <td>Yes</td>\n",
       "      <td>Full</td>\n",
       "      <td>$</td>\n",
       "      <td>No</td>\n",
       "      <td>No</td>\n",
       "      <td>Thai</td>\n",
       "      <td>30-60</td>\n",
       "    </tr>\n",
       "    <tr>\n",
       "      <th>2</th>\n",
       "      <td>No</td>\n",
       "      <td>Yes</td>\n",
       "      <td>No</td>\n",
       "      <td>No</td>\n",
       "      <td>Some</td>\n",
       "      <td>$</td>\n",
       "      <td>No</td>\n",
       "      <td>No</td>\n",
       "      <td>Burger</td>\n",
       "      <td>0-10</td>\n",
       "    </tr>\n",
       "    <tr>\n",
       "      <th>3</th>\n",
       "      <td>Yes</td>\n",
       "      <td>No</td>\n",
       "      <td>Yes</td>\n",
       "      <td>Yes</td>\n",
       "      <td>Full</td>\n",
       "      <td>$</td>\n",
       "      <td>No</td>\n",
       "      <td>No</td>\n",
       "      <td>Thai</td>\n",
       "      <td>10-30</td>\n",
       "    </tr>\n",
       "    <tr>\n",
       "      <th>4</th>\n",
       "      <td>Yes</td>\n",
       "      <td>No</td>\n",
       "      <td>Yes</td>\n",
       "      <td>No</td>\n",
       "      <td>Full</td>\n",
       "      <td>$$$</td>\n",
       "      <td>No</td>\n",
       "      <td>Yes</td>\n",
       "      <td>French</td>\n",
       "      <td>&gt;60</td>\n",
       "    </tr>\n",
       "    <tr>\n",
       "      <th>5</th>\n",
       "      <td>No</td>\n",
       "      <td>Yes</td>\n",
       "      <td>No</td>\n",
       "      <td>Yes</td>\n",
       "      <td>Some</td>\n",
       "      <td>$$</td>\n",
       "      <td>Yes</td>\n",
       "      <td>Yes</td>\n",
       "      <td>Italian</td>\n",
       "      <td>0-10</td>\n",
       "    </tr>\n",
       "    <tr>\n",
       "      <th>6</th>\n",
       "      <td>No</td>\n",
       "      <td>Yes</td>\n",
       "      <td>No</td>\n",
       "      <td>No</td>\n",
       "      <td>None</td>\n",
       "      <td>$</td>\n",
       "      <td>Yes</td>\n",
       "      <td>No</td>\n",
       "      <td>Burger</td>\n",
       "      <td>0-10</td>\n",
       "    </tr>\n",
       "    <tr>\n",
       "      <th>7</th>\n",
       "      <td>No</td>\n",
       "      <td>No</td>\n",
       "      <td>No</td>\n",
       "      <td>Yes</td>\n",
       "      <td>Some</td>\n",
       "      <td>$$</td>\n",
       "      <td>Yes</td>\n",
       "      <td>Yes</td>\n",
       "      <td>Thai</td>\n",
       "      <td>0-10</td>\n",
       "    </tr>\n",
       "    <tr>\n",
       "      <th>8</th>\n",
       "      <td>No</td>\n",
       "      <td>Yes</td>\n",
       "      <td>Yes</td>\n",
       "      <td>No</td>\n",
       "      <td>Full</td>\n",
       "      <td>$</td>\n",
       "      <td>Yes</td>\n",
       "      <td>No</td>\n",
       "      <td>Burger</td>\n",
       "      <td>&gt;60</td>\n",
       "    </tr>\n",
       "    <tr>\n",
       "      <th>9</th>\n",
       "      <td>Yes</td>\n",
       "      <td>Yes</td>\n",
       "      <td>Yes</td>\n",
       "      <td>Yes</td>\n",
       "      <td>Full</td>\n",
       "      <td>$$$</td>\n",
       "      <td>No</td>\n",
       "      <td>Yes</td>\n",
       "      <td>Italian</td>\n",
       "      <td>10-30</td>\n",
       "    </tr>\n",
       "    <tr>\n",
       "      <th>10</th>\n",
       "      <td>No</td>\n",
       "      <td>No</td>\n",
       "      <td>No</td>\n",
       "      <td>No</td>\n",
       "      <td>None</td>\n",
       "      <td>$</td>\n",
       "      <td>No</td>\n",
       "      <td>No</td>\n",
       "      <td>Thai</td>\n",
       "      <td>0-10</td>\n",
       "    </tr>\n",
       "    <tr>\n",
       "      <th>11</th>\n",
       "      <td>Yes</td>\n",
       "      <td>Yes</td>\n",
       "      <td>Yes</td>\n",
       "      <td>Yes</td>\n",
       "      <td>Full</td>\n",
       "      <td>$</td>\n",
       "      <td>No</td>\n",
       "      <td>No</td>\n",
       "      <td>Burger</td>\n",
       "      <td>30-60</td>\n",
       "    </tr>\n",
       "  </tbody>\n",
       "</table>\n",
       "</div>"
      ],
      "text/plain": [
       "    Alt  Bar  Fri  Hun   Pat Price Rain  Res     Type    Est\n",
       "0   Yes   No   No  Yes  Some   $$$   No  Yes   French   0-10\n",
       "1   Yes   No   No  Yes  Full     $   No   No     Thai  30-60\n",
       "2    No  Yes   No   No  Some     $   No   No   Burger   0-10\n",
       "3   Yes   No  Yes  Yes  Full     $   No   No     Thai  10-30\n",
       "4   Yes   No  Yes   No  Full   $$$   No  Yes   French    >60\n",
       "5    No  Yes   No  Yes  Some    $$  Yes  Yes  Italian   0-10\n",
       "6    No  Yes   No   No  None     $  Yes   No   Burger   0-10\n",
       "7    No   No   No  Yes  Some    $$  Yes  Yes     Thai   0-10\n",
       "8    No  Yes  Yes   No  Full     $  Yes   No   Burger    >60\n",
       "9   Yes  Yes  Yes  Yes  Full   $$$   No  Yes  Italian  10-30\n",
       "10   No   No   No   No  None     $   No   No     Thai   0-10\n",
       "11  Yes  Yes  Yes  Yes  Full     $   No   No   Burger  30-60"
      ]
     },
     "execution_count": 9,
     "metadata": {},
     "output_type": "execute_result"
    }
   ],
   "source": [
    "X_train"
   ]
  },
  {
   "cell_type": "code",
   "execution_count": 10,
   "id": "b1470701-fb36-47e7-815d-fc5f6e435f2f",
   "metadata": {},
   "outputs": [],
   "source": [
    "X_train_dichot =  X_train.loc[:, [\"Alt\", \"Bar\", \"Fri\", \"Hun\", \"Rain\", \"Res\"]]\n",
    "X_train_nominal = X_train.loc[:, [\"Pat\", \"Price\", \"Type\", \"Est\"]]"
   ]
  },
  {
   "cell_type": "code",
   "execution_count": 11,
   "id": "74941e52-1f3a-40b8-8a69-733ebca3a15b",
   "metadata": {},
   "outputs": [],
   "source": [
    "# label Encoding the dichotomous variables\n",
    "X_train_dichot_en = X_train_dichot.apply(LabelEncoder().fit_transform)"
   ]
  },
  {
   "cell_type": "code",
   "execution_count": 12,
   "id": "c0831a32-6833-4b44-97ed-769355d87c31",
   "metadata": {},
   "outputs": [],
   "source": [
    "# onehot encoding the nominal categorical variables\n",
    "labelencoder_dict = {}\n",
    "onehotencoder_dict = {}\n",
    "X_train_nominal_en = None\n",
    "for i in range(0, X_train_nominal.shape[1]):\n",
    "    label_encoder = LabelEncoder()\n",
    "    labelencoder_dict[i] = label_encoder\n",
    "    feature = label_encoder.fit_transform(X_train_nominal.iloc[:,i])\n",
    "    feature = feature.reshape(X_train_nominal.shape[0], 1)\n",
    "    onehot_encoder = OneHotEncoder(sparse=False)\n",
    "    feature = onehot_encoder.fit_transform(feature)\n",
    "    onehotencoder_dict[i] = onehot_encoder\n",
    "    if X_train_nominal_en is None:\n",
    "        X_train_nominal_en = feature\n",
    "    else:\n",
    "        X_train_nominal_en = np.concatenate((X_train_nominal_en, feature), axis=1)"
   ]
  },
  {
   "cell_type": "code",
   "execution_count": 13,
   "id": "459c02b5-c99f-4e0a-b507-8912fa3b210f",
   "metadata": {},
   "outputs": [],
   "source": [
    "# concatenating te two arrays\n",
    "X_train_dichot_en = X_train_dichot_en.to_numpy()\n",
    "X_train = np.concatenate((X_train_dichot_en, X_train_nominal_en),axis=1)"
   ]
  },
  {
   "cell_type": "code",
   "execution_count": 14,
   "id": "e11d973b-9586-4f7d-9043-32bad2151291",
   "metadata": {},
   "outputs": [
    {
     "data": {
      "text/plain": [
       "array([[1., 0., 0., 1., 0., 1., 0., 0., 1., 0., 0., 1., 0., 1., 0., 0.,\n",
       "        1., 0., 0., 0.],\n",
       "       [1., 0., 0., 1., 0., 0., 1., 0., 0., 1., 0., 0., 0., 0., 0., 1.,\n",
       "        0., 0., 1., 0.],\n",
       "       [0., 1., 0., 0., 0., 0., 0., 0., 1., 1., 0., 0., 1., 0., 0., 0.,\n",
       "        1., 0., 0., 0.],\n",
       "       [1., 0., 1., 1., 0., 0., 1., 0., 0., 1., 0., 0., 0., 0., 0., 1.,\n",
       "        0., 1., 0., 0.],\n",
       "       [1., 0., 1., 0., 0., 1., 1., 0., 0., 0., 0., 1., 0., 1., 0., 0.,\n",
       "        0., 0., 0., 1.],\n",
       "       [0., 1., 0., 1., 1., 1., 0., 0., 1., 0., 1., 0., 0., 0., 1., 0.,\n",
       "        1., 0., 0., 0.],\n",
       "       [0., 1., 0., 0., 1., 0., 0., 1., 0., 1., 0., 0., 1., 0., 0., 0.,\n",
       "        1., 0., 0., 0.],\n",
       "       [0., 0., 0., 1., 1., 1., 0., 0., 1., 0., 1., 0., 0., 0., 0., 1.,\n",
       "        1., 0., 0., 0.],\n",
       "       [0., 1., 1., 0., 1., 0., 1., 0., 0., 1., 0., 0., 1., 0., 0., 0.,\n",
       "        0., 0., 0., 1.],\n",
       "       [1., 1., 1., 1., 0., 1., 1., 0., 0., 0., 0., 1., 0., 0., 1., 0.,\n",
       "        0., 1., 0., 0.],\n",
       "       [0., 0., 0., 0., 0., 0., 0., 1., 0., 1., 0., 0., 0., 0., 0., 1.,\n",
       "        1., 0., 0., 0.],\n",
       "       [1., 1., 1., 1., 0., 0., 1., 0., 0., 1., 0., 0., 1., 0., 0., 0.,\n",
       "        0., 0., 1., 0.]])"
      ]
     },
     "execution_count": 14,
     "metadata": {},
     "output_type": "execute_result"
    }
   ],
   "source": [
    "X_train"
   ]
  },
  {
   "cell_type": "code",
   "execution_count": 15,
   "id": "8e16a148-d689-47a1-b85e-679a2088a15f",
   "metadata": {},
   "outputs": [],
   "source": [
    "feature_names=['Alt', 'Bar', 'Fri', 'Hun', 'Rain', 'Res', 'Pat_Full', 'Pat_None', 'Pat_Some', 'Price_$', 'Price_$$', 'Price_$$$', 'Type_Burger', 'Type_French', 'Type_Italian', 'Type_Thai', 'Est_0-10', 'Est_10-30', 'Est_30-60', 'Est_>60']"
   ]
  },
  {
   "cell_type": "code",
   "execution_count": 16,
   "id": "66cc9886-1420-4e01-9955-4097eff63618",
   "metadata": {},
   "outputs": [],
   "source": [
    "# label encoding the y_train\n",
    "le = preprocessing.LabelEncoder()\n",
    "y_train = le.fit_transform(y_train)"
   ]
  },
  {
   "cell_type": "code",
   "execution_count": 17,
   "id": "a6122a44-514b-46a3-950a-4472fe8fb156",
   "metadata": {},
   "outputs": [
    {
     "data": {
      "text/plain": [
       "array([1, 0, 1, 1, 0, 1, 0, 1, 0, 0, 0, 1])"
      ]
     },
     "execution_count": 17,
     "metadata": {},
     "output_type": "execute_result"
    }
   ],
   "source": [
    "y_train"
   ]
  },
  {
   "cell_type": "code",
   "execution_count": 18,
   "id": "42d1d41d-3c65-43c6-bd0b-a44b359061de",
   "metadata": {},
   "outputs": [],
   "source": [
    "# Create Decision Tree classifer object\n",
    "clf = DecisionTreeClassifier()\n",
    "\n",
    "# Train Decision Tree Classifer\n",
    "clf = clf.fit(X_train,y_train)"
   ]
  },
  {
   "cell_type": "code",
   "execution_count": 19,
   "id": "2ed3d461-c17d-4b55-a97b-72f75a754182",
   "metadata": {},
   "outputs": [
    {
     "data": {
      "image/svg+xml": [
       "<?xml version=\"1.0\" encoding=\"UTF-8\" standalone=\"no\"?>\n",
       "<!DOCTYPE svg PUBLIC \"-//W3C//DTD SVG 1.1//EN\"\n",
       " \"http://www.w3.org/Graphics/SVG/1.1/DTD/svg11.dtd\">\n",
       "<!-- Generated by graphviz version 2.50.0 (0)\n",
       " -->\n",
       "<!-- Title: Tree Pages: 1 -->\n",
       "<svg width=\"285pt\" height=\"552pt\"\n",
       " viewBox=\"0.00 0.00 285.00 552.00\" xmlns=\"http://www.w3.org/2000/svg\" xmlns:xlink=\"http://www.w3.org/1999/xlink\">\n",
       "<g id=\"graph0\" class=\"graph\" transform=\"scale(1 1) rotate(0) translate(4 548)\">\n",
       "<title>Tree</title>\n",
       "<polygon fill=\"white\" stroke=\"transparent\" points=\"-4,4 -4,-548 281,-548 281,4 -4,4\"/>\n",
       "<!-- 0 -->\n",
       "<g id=\"node1\" class=\"node\">\n",
       "<title>0</title>\n",
       "<polygon fill=\"#ffffff\" stroke=\"black\" points=\"228,-544 105,-544 105,-461 228,-461 228,-544\"/>\n",
       "<text text-anchor=\"middle\" x=\"166.5\" y=\"-528.8\" font-family=\"Helvetica,sans-Serif\" font-size=\"14.00\">Pat_Some &lt;= 0.5</text>\n",
       "<text text-anchor=\"middle\" x=\"166.5\" y=\"-513.8\" font-family=\"Helvetica,sans-Serif\" font-size=\"14.00\">gini = 0.5</text>\n",
       "<text text-anchor=\"middle\" x=\"166.5\" y=\"-498.8\" font-family=\"Helvetica,sans-Serif\" font-size=\"14.00\">samples = 12</text>\n",
       "<text text-anchor=\"middle\" x=\"166.5\" y=\"-483.8\" font-family=\"Helvetica,sans-Serif\" font-size=\"14.00\">value = [6, 6]</text>\n",
       "<text text-anchor=\"middle\" x=\"166.5\" y=\"-468.8\" font-family=\"Helvetica,sans-Serif\" font-size=\"14.00\">class = No</text>\n",
       "</g>\n",
       "<!-- 1 -->\n",
       "<g id=\"node2\" class=\"node\">\n",
       "<title>1</title>\n",
       "<polygon fill=\"#eeab7b\" stroke=\"black\" points=\"158,-425 63,-425 63,-342 158,-342 158,-425\"/>\n",
       "<text text-anchor=\"middle\" x=\"110.5\" y=\"-409.8\" font-family=\"Helvetica,sans-Serif\" font-size=\"14.00\">Hun &lt;= 0.5</text>\n",
       "<text text-anchor=\"middle\" x=\"110.5\" y=\"-394.8\" font-family=\"Helvetica,sans-Serif\" font-size=\"14.00\">gini = 0.375</text>\n",
       "<text text-anchor=\"middle\" x=\"110.5\" y=\"-379.8\" font-family=\"Helvetica,sans-Serif\" font-size=\"14.00\">samples = 8</text>\n",
       "<text text-anchor=\"middle\" x=\"110.5\" y=\"-364.8\" font-family=\"Helvetica,sans-Serif\" font-size=\"14.00\">value = [6, 2]</text>\n",
       "<text text-anchor=\"middle\" x=\"110.5\" y=\"-349.8\" font-family=\"Helvetica,sans-Serif\" font-size=\"14.00\">class = No</text>\n",
       "</g>\n",
       "<!-- 0&#45;&gt;1 -->\n",
       "<g id=\"edge1\" class=\"edge\">\n",
       "<title>0&#45;&gt;1</title>\n",
       "<path fill=\"none\" stroke=\"black\" d=\"M147.07,-460.91C142.94,-452.29 138.54,-443.09 134.28,-434.17\"/>\n",
       "<polygon fill=\"black\" stroke=\"black\" points=\"137.37,-432.53 129.89,-425.02 131.05,-435.55 137.37,-432.53\"/>\n",
       "<text text-anchor=\"middle\" x=\"121.58\" y=\"-444.9\" font-family=\"Helvetica,sans-Serif\" font-size=\"14.00\">True</text>\n",
       "</g>\n",
       "<!-- 8 -->\n",
       "<g id=\"node9\" class=\"node\">\n",
       "<title>8</title>\n",
       "<polygon fill=\"#399de5\" stroke=\"black\" points=\"271,-417.5 176,-417.5 176,-349.5 271,-349.5 271,-417.5\"/>\n",
       "<text text-anchor=\"middle\" x=\"223.5\" y=\"-402.3\" font-family=\"Helvetica,sans-Serif\" font-size=\"14.00\">gini = 0.0</text>\n",
       "<text text-anchor=\"middle\" x=\"223.5\" y=\"-387.3\" font-family=\"Helvetica,sans-Serif\" font-size=\"14.00\">samples = 4</text>\n",
       "<text text-anchor=\"middle\" x=\"223.5\" y=\"-372.3\" font-family=\"Helvetica,sans-Serif\" font-size=\"14.00\">value = [0, 4]</text>\n",
       "<text text-anchor=\"middle\" x=\"223.5\" y=\"-357.3\" font-family=\"Helvetica,sans-Serif\" font-size=\"14.00\">class = Yes</text>\n",
       "</g>\n",
       "<!-- 0&#45;&gt;8 -->\n",
       "<g id=\"edge8\" class=\"edge\">\n",
       "<title>0&#45;&gt;8</title>\n",
       "<path fill=\"none\" stroke=\"black\" d=\"M186.28,-460.91C191.65,-449.87 197.49,-437.9 202.91,-426.77\"/>\n",
       "<polygon fill=\"black\" stroke=\"black\" points=\"206.11,-428.19 207.34,-417.67 199.82,-425.12 206.11,-428.19\"/>\n",
       "<text text-anchor=\"middle\" x=\"215.49\" y=\"-437.6\" font-family=\"Helvetica,sans-Serif\" font-size=\"14.00\">False</text>\n",
       "</g>\n",
       "<!-- 2 -->\n",
       "<g id=\"node3\" class=\"node\">\n",
       "<title>2</title>\n",
       "<polygon fill=\"#e58139\" stroke=\"black\" points=\"95,-298.5 0,-298.5 0,-230.5 95,-230.5 95,-298.5\"/>\n",
       "<text text-anchor=\"middle\" x=\"47.5\" y=\"-283.3\" font-family=\"Helvetica,sans-Serif\" font-size=\"14.00\">gini = 0.0</text>\n",
       "<text text-anchor=\"middle\" x=\"47.5\" y=\"-268.3\" font-family=\"Helvetica,sans-Serif\" font-size=\"14.00\">samples = 4</text>\n",
       "<text text-anchor=\"middle\" x=\"47.5\" y=\"-253.3\" font-family=\"Helvetica,sans-Serif\" font-size=\"14.00\">value = [4, 0]</text>\n",
       "<text text-anchor=\"middle\" x=\"47.5\" y=\"-238.3\" font-family=\"Helvetica,sans-Serif\" font-size=\"14.00\">class = No</text>\n",
       "</g>\n",
       "<!-- 1&#45;&gt;2 -->\n",
       "<g id=\"edge2\" class=\"edge\">\n",
       "<title>1&#45;&gt;2</title>\n",
       "<path fill=\"none\" stroke=\"black\" d=\"M88.64,-341.91C82.7,-330.87 76.25,-318.9 70.26,-307.77\"/>\n",
       "<polygon fill=\"black\" stroke=\"black\" points=\"73.18,-305.81 65.36,-298.67 67.02,-309.13 73.18,-305.81\"/>\n",
       "</g>\n",
       "<!-- 3 -->\n",
       "<g id=\"node4\" class=\"node\">\n",
       "<title>3</title>\n",
       "<polygon fill=\"#ffffff\" stroke=\"black\" points=\"233.5,-306 113.5,-306 113.5,-223 233.5,-223 233.5,-306\"/>\n",
       "<text text-anchor=\"middle\" x=\"173.5\" y=\"-290.8\" font-family=\"Helvetica,sans-Serif\" font-size=\"14.00\">Price_$$$ &lt;= 0.5</text>\n",
       "<text text-anchor=\"middle\" x=\"173.5\" y=\"-275.8\" font-family=\"Helvetica,sans-Serif\" font-size=\"14.00\">gini = 0.5</text>\n",
       "<text text-anchor=\"middle\" x=\"173.5\" y=\"-260.8\" font-family=\"Helvetica,sans-Serif\" font-size=\"14.00\">samples = 4</text>\n",
       "<text text-anchor=\"middle\" x=\"173.5\" y=\"-245.8\" font-family=\"Helvetica,sans-Serif\" font-size=\"14.00\">value = [2, 2]</text>\n",
       "<text text-anchor=\"middle\" x=\"173.5\" y=\"-230.8\" font-family=\"Helvetica,sans-Serif\" font-size=\"14.00\">class = No</text>\n",
       "</g>\n",
       "<!-- 1&#45;&gt;3 -->\n",
       "<g id=\"edge3\" class=\"edge\">\n",
       "<title>1&#45;&gt;3</title>\n",
       "<path fill=\"none\" stroke=\"black\" d=\"M132.36,-341.91C137.05,-333.2 142.06,-323.9 146.9,-314.89\"/>\n",
       "<polygon fill=\"black\" stroke=\"black\" points=\"150.02,-316.48 151.68,-306.02 143.86,-313.17 150.02,-316.48\"/>\n",
       "</g>\n",
       "<!-- 4 -->\n",
       "<g id=\"node5\" class=\"node\">\n",
       "<title>4</title>\n",
       "<polygon fill=\"#9ccef2\" stroke=\"black\" points=\"164,-187 69,-187 69,-104 164,-104 164,-187\"/>\n",
       "<text text-anchor=\"middle\" x=\"116.5\" y=\"-171.8\" font-family=\"Helvetica,sans-Serif\" font-size=\"14.00\">Fri &lt;= 0.5</text>\n",
       "<text text-anchor=\"middle\" x=\"116.5\" y=\"-156.8\" font-family=\"Helvetica,sans-Serif\" font-size=\"14.00\">gini = 0.444</text>\n",
       "<text text-anchor=\"middle\" x=\"116.5\" y=\"-141.8\" font-family=\"Helvetica,sans-Serif\" font-size=\"14.00\">samples = 3</text>\n",
       "<text text-anchor=\"middle\" x=\"116.5\" y=\"-126.8\" font-family=\"Helvetica,sans-Serif\" font-size=\"14.00\">value = [1, 2]</text>\n",
       "<text text-anchor=\"middle\" x=\"116.5\" y=\"-111.8\" font-family=\"Helvetica,sans-Serif\" font-size=\"14.00\">class = Yes</text>\n",
       "</g>\n",
       "<!-- 3&#45;&gt;4 -->\n",
       "<g id=\"edge4\" class=\"edge\">\n",
       "<title>3&#45;&gt;4</title>\n",
       "<path fill=\"none\" stroke=\"black\" d=\"M153.72,-222.91C149.52,-214.29 145.04,-205.09 140.7,-196.17\"/>\n",
       "<polygon fill=\"black\" stroke=\"black\" points=\"143.77,-194.48 136.24,-187.02 137.47,-197.54 143.77,-194.48\"/>\n",
       "</g>\n",
       "<!-- 7 -->\n",
       "<g id=\"node8\" class=\"node\">\n",
       "<title>7</title>\n",
       "<polygon fill=\"#e58139\" stroke=\"black\" points=\"277,-179.5 182,-179.5 182,-111.5 277,-111.5 277,-179.5\"/>\n",
       "<text text-anchor=\"middle\" x=\"229.5\" y=\"-164.3\" font-family=\"Helvetica,sans-Serif\" font-size=\"14.00\">gini = 0.0</text>\n",
       "<text text-anchor=\"middle\" x=\"229.5\" y=\"-149.3\" font-family=\"Helvetica,sans-Serif\" font-size=\"14.00\">samples = 1</text>\n",
       "<text text-anchor=\"middle\" x=\"229.5\" y=\"-134.3\" font-family=\"Helvetica,sans-Serif\" font-size=\"14.00\">value = [1, 0]</text>\n",
       "<text text-anchor=\"middle\" x=\"229.5\" y=\"-119.3\" font-family=\"Helvetica,sans-Serif\" font-size=\"14.00\">class = No</text>\n",
       "</g>\n",
       "<!-- 3&#45;&gt;7 -->\n",
       "<g id=\"edge7\" class=\"edge\">\n",
       "<title>3&#45;&gt;7</title>\n",
       "<path fill=\"none\" stroke=\"black\" d=\"M192.93,-222.91C198.21,-211.87 203.94,-199.9 209.27,-188.77\"/>\n",
       "<polygon fill=\"black\" stroke=\"black\" points=\"212.46,-190.2 213.63,-179.67 206.15,-187.18 212.46,-190.2\"/>\n",
       "</g>\n",
       "<!-- 5 -->\n",
       "<g id=\"node6\" class=\"node\">\n",
       "<title>5</title>\n",
       "<polygon fill=\"#e58139\" stroke=\"black\" points=\"108,-68 13,-68 13,0 108,0 108,-68\"/>\n",
       "<text text-anchor=\"middle\" x=\"60.5\" y=\"-52.8\" font-family=\"Helvetica,sans-Serif\" font-size=\"14.00\">gini = 0.0</text>\n",
       "<text text-anchor=\"middle\" x=\"60.5\" y=\"-37.8\" font-family=\"Helvetica,sans-Serif\" font-size=\"14.00\">samples = 1</text>\n",
       "<text text-anchor=\"middle\" x=\"60.5\" y=\"-22.8\" font-family=\"Helvetica,sans-Serif\" font-size=\"14.00\">value = [1, 0]</text>\n",
       "<text text-anchor=\"middle\" x=\"60.5\" y=\"-7.8\" font-family=\"Helvetica,sans-Serif\" font-size=\"14.00\">class = No</text>\n",
       "</g>\n",
       "<!-- 4&#45;&gt;5 -->\n",
       "<g id=\"edge5\" class=\"edge\">\n",
       "<title>4&#45;&gt;5</title>\n",
       "<path fill=\"none\" stroke=\"black\" d=\"M95.65,-103.73C91.26,-95.15 86.63,-86.09 82.21,-77.46\"/>\n",
       "<polygon fill=\"black\" stroke=\"black\" points=\"85.2,-75.61 77.53,-68.3 78.97,-78.8 85.2,-75.61\"/>\n",
       "</g>\n",
       "<!-- 6 -->\n",
       "<g id=\"node7\" class=\"node\">\n",
       "<title>6</title>\n",
       "<polygon fill=\"#399de5\" stroke=\"black\" points=\"221,-68 126,-68 126,0 221,0 221,-68\"/>\n",
       "<text text-anchor=\"middle\" x=\"173.5\" y=\"-52.8\" font-family=\"Helvetica,sans-Serif\" font-size=\"14.00\">gini = 0.0</text>\n",
       "<text text-anchor=\"middle\" x=\"173.5\" y=\"-37.8\" font-family=\"Helvetica,sans-Serif\" font-size=\"14.00\">samples = 2</text>\n",
       "<text text-anchor=\"middle\" x=\"173.5\" y=\"-22.8\" font-family=\"Helvetica,sans-Serif\" font-size=\"14.00\">value = [0, 2]</text>\n",
       "<text text-anchor=\"middle\" x=\"173.5\" y=\"-7.8\" font-family=\"Helvetica,sans-Serif\" font-size=\"14.00\">class = Yes</text>\n",
       "</g>\n",
       "<!-- 4&#45;&gt;6 -->\n",
       "<g id=\"edge6\" class=\"edge\">\n",
       "<title>4&#45;&gt;6</title>\n",
       "<path fill=\"none\" stroke=\"black\" d=\"M137.72,-103.73C142.24,-95.06 147.01,-85.9 151.54,-77.18\"/>\n",
       "<polygon fill=\"black\" stroke=\"black\" points=\"154.65,-78.79 156.17,-68.3 148.44,-75.55 154.65,-78.79\"/>\n",
       "</g>\n",
       "</g>\n",
       "</svg>\n"
      ],
      "text/plain": [
       "<graphviz.sources.Source at 0x1e2f5d167c0>"
      ]
     },
     "execution_count": 19,
     "metadata": {},
     "output_type": "execute_result"
    }
   ],
   "source": [
    "import graphviz\n",
    "from sklearn import tree\n",
    "# DOT data\n",
    "dot_data = tree.export_graphviz(clf, out_file=None, \n",
    "                                feature_names=feature_names,  \n",
    "                                class_names=['No','Yes'],\n",
    "                                filled=True)\n",
    "\n",
    "# Draw graph\n",
    "graph = graphviz.Source(dot_data, format=\"png\") \n",
    "graph"
   ]
  },
  {
   "cell_type": "code",
   "execution_count": 20,
   "id": "73ee531c-74bb-4242-98d9-ad349e66487a",
   "metadata": {},
   "outputs": [],
   "source": [
    "# f = graphviz.Digraph('finite_state_machine', filename='dt_visualization.gv')\n",
    "# f.attr(rankdir='LR', size='8,5')\n",
    "\n",
    "# f.attr('node', shape='square')\n",
    "# f.node('LR_0', 'hello')\n",
    "# f.node('LR_3')\n",
    "# f.node('LR_4')\n",
    "# f.node('LR_8')\n",
    "\n",
    "# f.attr('node', shape='square')\n",
    "# f.edge('LR_0', 'LR_2', label='SS(B)')\n",
    "# f.edge('LR_0', 'LR_1', label='SS(S)')\n",
    "# f.edge('LR_1', 'LR_3', label='S($end)')\n",
    "# f.edge('LR_2', 'LR_6', label='SS(b)')\n",
    "# f.edge('LR_2', 'LR_5', label='SS(a)')\n",
    "# f.edge('LR_2', 'LR_4', label='S(A)')\n",
    "# f.edge('LR_5', 'LR_7', label='S(b)')\n",
    "# f.edge('LR_5', 'LR_5', label='S(a)')\n",
    "# f.edge('LR_6', 'LR_6', label='S(b)')\n",
    "# f.edge('LR_6', 'LR_5', label='S(a)')\n",
    "# f.edge('LR_7', 'LR_8', label='S(b)')\n",
    "# f.edge('LR_7', 'LR_5', label='S(a)')\n",
    "# f.edge('LR_8', 'LR_6', label='S(b)')\n",
    "# f.edge('LR_8', 'LR_5', label='S(a)')\n",
    "\n",
    "# f.view()"
   ]
  },
  {
   "cell_type": "code",
   "execution_count": 21,
   "id": "8adf3fca-1336-4e36-aa7c-a81693d906cb",
   "metadata": {},
   "outputs": [],
   "source": [
    "#read unseen data\n",
    "predict_df=pd.read_csv(predict_data_file, names=column_names)\n",
    "predict_df = predict_df.drop('Output', axis=1) "
   ]
  },
  {
   "cell_type": "code",
   "execution_count": 22,
   "id": "b29f889d-22ff-4fce-a321-ed4ca932970d",
   "metadata": {},
   "outputs": [],
   "source": [
    "predict_df_dtypes_obj = predict_df.select_dtypes(['object'])\n",
    "predict_df[predict_df_dtypes_obj.columns] = predict_df_dtypes_obj.apply(lambda x: x.str.strip())"
   ]
  },
  {
   "cell_type": "code",
   "execution_count": 23,
   "id": "bdb1f819-094d-452d-b71f-c25bfeb04446",
   "metadata": {},
   "outputs": [
    {
     "data": {
      "text/html": [
       "<div>\n",
       "<style scoped>\n",
       "    .dataframe tbody tr th:only-of-type {\n",
       "        vertical-align: middle;\n",
       "    }\n",
       "\n",
       "    .dataframe tbody tr th {\n",
       "        vertical-align: top;\n",
       "    }\n",
       "\n",
       "    .dataframe thead th {\n",
       "        text-align: right;\n",
       "    }\n",
       "</style>\n",
       "<table border=\"1\" class=\"dataframe\">\n",
       "  <thead>\n",
       "    <tr style=\"text-align: right;\">\n",
       "      <th></th>\n",
       "      <th>Alt</th>\n",
       "      <th>Bar</th>\n",
       "      <th>Fri</th>\n",
       "      <th>Hun</th>\n",
       "      <th>Pat</th>\n",
       "      <th>Price</th>\n",
       "      <th>Rain</th>\n",
       "      <th>Res</th>\n",
       "      <th>Type</th>\n",
       "      <th>Est</th>\n",
       "    </tr>\n",
       "  </thead>\n",
       "  <tbody>\n",
       "    <tr>\n",
       "      <th>0</th>\n",
       "      <td>No</td>\n",
       "      <td>No</td>\n",
       "      <td>No</td>\n",
       "      <td>No</td>\n",
       "      <td>None</td>\n",
       "      <td>$$$</td>\n",
       "      <td>No</td>\n",
       "      <td>No</td>\n",
       "      <td>Thai</td>\n",
       "      <td>0-10</td>\n",
       "    </tr>\n",
       "    <tr>\n",
       "      <th>1</th>\n",
       "      <td>No</td>\n",
       "      <td>No</td>\n",
       "      <td>No</td>\n",
       "      <td>No</td>\n",
       "      <td>None</td>\n",
       "      <td>$$$</td>\n",
       "      <td>Yes</td>\n",
       "      <td>No</td>\n",
       "      <td>Burger</td>\n",
       "      <td>10-30</td>\n",
       "    </tr>\n",
       "    <tr>\n",
       "      <th>2</th>\n",
       "      <td>No</td>\n",
       "      <td>No</td>\n",
       "      <td>No</td>\n",
       "      <td>No</td>\n",
       "      <td>None</td>\n",
       "      <td>$</td>\n",
       "      <td>Yes</td>\n",
       "      <td>No</td>\n",
       "      <td>French</td>\n",
       "      <td>0-10</td>\n",
       "    </tr>\n",
       "  </tbody>\n",
       "</table>\n",
       "</div>"
      ],
      "text/plain": [
       "  Alt Bar Fri Hun   Pat Price Rain Res    Type    Est\n",
       "0  No  No  No  No  None   $$$   No  No    Thai   0-10\n",
       "1  No  No  No  No  None   $$$  Yes  No  Burger  10-30\n",
       "2  No  No  No  No  None     $  Yes  No  French   0-10"
      ]
     },
     "execution_count": 23,
     "metadata": {},
     "output_type": "execute_result"
    }
   ],
   "source": [
    "predict_df"
   ]
  },
  {
   "cell_type": "code",
   "execution_count": 24,
   "id": "1f3b9aef-c289-4615-a136-535aba4ae262",
   "metadata": {},
   "outputs": [],
   "source": [
    "predict_df_nominal = predict_df.loc[:, [\"Pat\", \"Price\", \"Type\", \"Est\"]]\n",
    "predict_df_dichot =  predict_df.loc[:, [\"Alt\", \"Bar\", \"Fri\", \"Hun\", \"Rain\", \"Res\"]]"
   ]
  },
  {
   "cell_type": "code",
   "execution_count": 25,
   "id": "515dfa5f-4085-4442-bc51-8e9430bf56ee",
   "metadata": {},
   "outputs": [],
   "source": [
    "# label Encoding the dichotomous variables\n",
    "predict_df_dichot_en =predict_df_dichot.apply(LabelEncoder().fit_transform)"
   ]
  },
  {
   "cell_type": "code",
   "execution_count": 26,
   "id": "e2fe214f-eab6-482f-888e-dd5a650824f2",
   "metadata": {},
   "outputs": [],
   "source": [
    "predict_df_nominal_en = getEncoded(predict_df_nominal, labelencoder_dict, onehotencoder_dict)"
   ]
  },
  {
   "cell_type": "code",
   "execution_count": 27,
   "id": "2a316147-6fd4-41a5-9a65-219ca76fecbe",
   "metadata": {},
   "outputs": [],
   "source": [
    "predict_df_dichot_en = predict_df_dichot_en.to_numpy()\n",
    "X_predict = np.concatenate((predict_df_dichot_en, predict_df_nominal_en),axis=1)"
   ]
  },
  {
   "cell_type": "code",
   "execution_count": 28,
   "id": "5e6ae1b1-6ee7-424d-a4b4-5c7720384190",
   "metadata": {},
   "outputs": [
    {
     "data": {
      "text/plain": [
       "array([[0., 0., 0., 0., 0., 0., 0., 1., 0., 0., 0., 1., 0., 0., 0., 1.,\n",
       "        1., 0., 0., 0.],\n",
       "       [0., 0., 0., 0., 1., 0., 0., 1., 0., 0., 0., 1., 1., 0., 0., 0.,\n",
       "        0., 1., 0., 0.],\n",
       "       [0., 0., 0., 0., 1., 0., 0., 1., 0., 1., 0., 0., 0., 1., 0., 0.,\n",
       "        1., 0., 0., 0.]])"
      ]
     },
     "execution_count": 28,
     "metadata": {},
     "output_type": "execute_result"
    }
   ],
   "source": [
    "X_predict"
   ]
  },
  {
   "cell_type": "code",
   "execution_count": 29,
   "id": "9c5dd320-8b32-49f1-935c-c4baa081d651",
   "metadata": {},
   "outputs": [],
   "source": [
    "y_pred = clf.predict(X_predict)"
   ]
  },
  {
   "cell_type": "code",
   "execution_count": 31,
   "id": "e9685aaa-9195-41ee-8292-4ab4f5f0e6ed",
   "metadata": {},
   "outputs": [
    {
     "data": {
      "text/plain": [
       "array([0, 0, 0])"
      ]
     },
     "execution_count": 31,
     "metadata": {},
     "output_type": "execute_result"
    }
   ],
   "source": [
    "y_pred"
   ]
  }
 ],
 "metadata": {
  "kernelspec": {
   "display_name": "Python 3 (ipykernel)",
   "language": "python",
   "name": "python3"
  },
  "language_info": {
   "codemirror_mode": {
    "name": "ipython",
    "version": 3
   },
   "file_extension": ".py",
   "mimetype": "text/x-python",
   "name": "python",
   "nbconvert_exporter": "python",
   "pygments_lexer": "ipython3",
   "version": "3.9.12"
  }
 },
 "nbformat": 4,
 "nbformat_minor": 5
}
